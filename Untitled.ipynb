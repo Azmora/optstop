{
 "cells": [
  {
   "cell_type": "code",
   "execution_count": 156,
   "metadata": {
    "collapsed": false
   },
   "outputs": [],
   "source": [
    "%matplotlib inline\n",
    "import numpy as np\n",
    "import numpy.random as rnd\n",
    "import scipy.stats as stat\n",
    "import seaborn as sns\n",
    "import matplotlib.pyplot as plt\n",
    "\n",
    "from scipy import sparse\n",
    "from scipy.sparse.linalg import spsolve\n",
    "from numpy.linalg import solve, norm"
   ]
  },
  {
   "cell_type": "code",
   "execution_count": 162,
   "metadata": {
    "collapsed": false
   },
   "outputs": [],
   "source": [
    "#Codigo para implementar o preco e a regiao de exercicio de uma put americana\n",
    "#Usa-se o esquema implicito na derivada temporal\n",
    "\n",
    "#Documentacao Detalhada:\n",
    "#####################################\n",
    "#       O Problema sem exercicio da Opcao\n",
    "#####################################\n",
    "# Se nao houvesse exercico da opcao, gostariamos de reproduzir o operador\n",
    "#     A = (D_t)v + r*x*(D_x)v+ ((1/2)*(x*sigma)^2)*(D_xx)v\n",
    "# E queremos achar v(t,x) tal que:\n",
    "#     Av = 0\n",
    "#     v(T_A,x)=exp(-r*T_A)*g(x)\n",
    "# Eh conveniente separar a parte nao temporal e chama-lo de A_partial:\n",
    "#    A_partial = r*x*(D_x)+ ((1/2)*(x*sigma)^2)*(D_xx)\n",
    "# Para a parte temporal, precisamos escolher entre os esquemas explicito, crank-nicholson ou implicito.\n",
    "# Implementaremos o ultimo:\n",
    "#     [(D_t)v](n*h_time,k*h) = (1/h_time)*(v((n+1)*h_time,k*h)-v(n*h_time,k*h))\n",
    "# A equacao fica entao:\n",
    "#     [A_partial - I/h_time] v(n,:) + (1/h_time)v(n+1,:)=0\n",
    "# Rearrumando teremos \n",
    "#     -(h_time)[A_partial - I/h_time] v(n,:) = v(n+1,:)\n",
    "# ou \n",
    "#      L v(n,:) = v(n+1,:)\n",
    "#\n",
    "# Neste codigo, teremos que Dx = r*x*(D_x) e Kx2 = ((1/2)*(x*sigma)^2)*(D_xx)\n",
    "# Iremos incluir tambem a condicao de Newmann.\n",
    "#\n",
    "#\n",
    "#\n",
    "####################################\n",
    "# Explicando as derivadas e Newmann\n",
    "#####################################\n",
    "#   #Se h=1, teriamos que os operadores derivadas podem ser escritos como:\n",
    "#   #D = sparse.spdiags([-e, e], [-1,1], N, N)\n",
    "#   #K = sparse.spdiags([e, -2*e, e], [-1,0,1], N, N)\n",
    "#\n",
    "#Explicando Dx\n",
    "#   #A operacao dot(Dx,f) discretiza r*x*(d/dx)f\n",
    "#   #A k-esima linha de Dx representa a derivada de f(kh) vezes r*kh\n",
    "#   # ou seja dot(Dx,f)[k] = r*kh*(d/dx)f(kh) \n",
    "#   #Para entender melhor, pense no resultado de: sparse.spdiags([-X, X], [-1,1], N, N).T\n",
    "#\n",
    "#Explicando Kx2  \n",
    "#   #A operacao dot(Kx2,f) discretiza (sigma²/2)*(x)²*(d/dx)f\n",
    "#   #A k-esima linha representa a segunda derivada de f(kh) vezes r\n",
    "#   # ou seja dot(Kx2,f)[k] = (sigma²/2)*(kh)²*(d/dx)f(kh) \n",
    "#\n",
    "#Explicando Condicao de Newmann\n",
    "#   #Queremos que (d/dx)f(Nh)=0 - esta eh a condicao de Newmann\n",
    "#   #Neste caso, consideramos que f((N+1)h)=f((N-1)h). Isto tem o efeito de anular a derivada em f(Nh).\n",
    "#   #Este efeito também será sentido na segunda derivada.\n",
    "#   #Para implementar isto, basta mudar a ultima linha de cada operador acima e, \n",
    "#   #ao inves de acessar o lugar (N+1) do grid, que nao existe, acessa-se o lugar (N-1).\n",
    "#   #Isto é o que a proxima quatro linhas fazem.\n",
    "#####################################\n",
    "\n",
    "\n",
    "#Codigo\n",
    "#####################################\n",
    "#  Parametros \n",
    "#####################################\n",
    "sigma = 0.5         #volatilidade\n",
    "r = 0.06            #taxa de juros ao ano\n",
    "K = 100             #Strike\n",
    "T_m = 1             #Maturidate em anos\n",
    "\n",
    "#grid\n",
    "L = 300             # tamanho do grid\n",
    "h = 50              # o passo discreto\n",
    "N = int(L/h)        # tamanho do grid em passos\n",
    "X = np.mgrid[0:N]*h # o grid\n",
    "h_time = 0.1        # o passo do tempo\n",
    "\n",
    "#funcao de payoff\n",
    "g = np.exp(-T_m*r)*np.maximum(K-X,0)\n",
    "\n",
    "#####################################\n",
    "#  Operadores \n",
    "#####################################\n",
    "e = np.ones(N)\n",
    "I = sparse.eye(N)   #usarI.toarray() para visualizar o array\n",
    "\n",
    "#Operadores sem a condicao de Newmann\n",
    "Dx = (r/(2*h)) *sparse.spdiags([X, -X], [-1,1], N, N).T\n",
    "Kx2 = ((sigma**2)/(2*h**2)) *sparse.spdiags([X*X, -2*X*X,X*X], [-1,0,1], N, N).T\n",
    "\n",
    "#Adicionando a condicao de Newmann\n",
    "X_Newmann = np.zeros(np.shape(X)) #aqui poderia ser alguma versao do esparso para ser mais rapido (mas nao deve haver muito ganho)\n",
    "X_Newmann[N-1] = X[N-1]\n",
    "Dx = Dx + (r/(2*h)) *sparse.spdiags(X_Newmann,1, N, N).T\n",
    "Kx2 = Kx2 + ((sigma**2)/(2*h**2))*sparse.spdiags(X_Newmann*X_Newmann,1, N, N).T\n",
    "\n",
    "#Operador sem a derivada temporal e sem considerar a regiao de exercicio\n",
    "A_partial = Dx + Kx2\n",
    "#Operador pronto para ser usado no esquema implicito, se nao houver exercicio\n",
    "L = I - h_time*A_partial\n",
    "\n",
    "################################\n",
    "#\n",
    "################################\n",
    "\n",
    "v = spsolve(L,g)\n",
    "\n",
    "\n",
    "\n",
    "\n",
    "\n",
    "\n",
    "\n",
    "\n",
    "#comentario temporario:\n",
    "  #O Newmann (como implementei) com a primeira derivada simetrica ficou estranho... confirmar\n",
    "  #Irho=rho*I;%Is it necessary? (do outro codigo)\n",
    "\n",
    "T_Mask = e==1 #O conjunto de exercicio (considerar mudar o nome...) Fica booleano mesmo?\n",
    "\n",
    "\n"
   ]
  },
  {
   "cell_type": "code",
   "execution_count": 163,
   "metadata": {
    "collapsed": false
   },
   "outputs": [
    {
     "data": {
      "text/plain": [
       "[<matplotlib.lines.Line2D at 0x7f53b07ef9e8>]"
      ]
     },
     "execution_count": 163,
     "metadata": {},
     "output_type": "execute_result"
    },
    {
     "data": {
      "image/png": "[encoded data removed]",
      "text/plain": [
       "<matplotlib.figure.Figure at 0x7f53b0803f28>"
      ]
     },
     "metadata": {},
     "output_type": "display_data"
    }
   ],
   "source": [
    "phi\n",
    "plt.figure(figsize=(13,8))\n",
    "plt.plot(X,v)"
   ]
  },
  {
   "cell_type": "code",
   "execution_count": 153,
   "metadata": {
    "collapsed": true
   },
   "outputs": [
    {
     "name": "stdout",
     "output_type": "stream",
     "text": [
      "[[ 0.    0.    0.    0.    0.    0.  ]\n",
      " [-0.03  0.    0.03  0.    0.    0.  ]\n",
      " [ 0.   -0.06  0.    0.06  0.    0.  ]\n",
      " [ 0.    0.   -0.09  0.    0.09  0.  ]\n",
      " [ 0.    0.    0.   -0.12  0.    0.12]\n",
      " [ 0.    0.    0.    0.    0.    0.  ]]\n",
      "[[ 0.     0.     0.     0.     0.     0.   ]\n",
      " [ 0.125 -0.25   0.125  0.     0.     0.   ]\n",
      " [ 0.     0.5   -1.     0.5    0.     0.   ]\n",
      " [ 0.     0.     1.125 -2.25   1.125  0.   ]\n",
      " [ 0.     0.     0.     2.    -4.     2.   ]\n",
      " [ 0.     0.     0.     0.     6.25  -6.25 ]]\n",
      "[[ 1.      0.      0.      0.      0.      0.    ]\n",
      " [-0.0095  1.025  -0.0155  0.      0.      0.    ]\n",
      " [ 0.     -0.044   1.1    -0.056   0.      0.    ]\n",
      " [ 0.      0.     -0.1035  1.225  -0.1215  0.    ]\n",
      " [ 0.      0.      0.     -0.188   1.4    -0.212 ]\n",
      " [ 0.      0.      0.      0.     -0.625   1.625 ]]\n"
     ]
    }
   ],
   "source": [
    "print(Dx.toarray())\n",
    "print(Kx2.toarray())\n",
    "#print(D.toarray())\n",
    "#print(K.toarray())\n",
    "print(L.toarray())\n"
   ]
  },
  {
   "cell_type": "code",
   "execution_count": 154,
   "metadata": {
    "collapsed": false
   },
   "outputs": [
    {
     "data": {
      "text/plain": [
       "scipy.sparse.csr.csr_matrix"
      ]
     },
     "execution_count": 154,
     "metadata": {},
     "output_type": "execute_result"
    }
   ],
   "source": [
    "type(L)"
   ]
  },
  {
   "cell_type": "code",
   "execution_count": 86,
   "metadata": {
    "collapsed": false
   },
   "outputs": [
    {
     "data": {
      "text/plain": [
       "array([ 1.,  1.,  1.,  1.,  1.,  1.])"
      ]
     },
     "execution_count": 86,
     "metadata": {},
     "output_type": "execute_result"
    }
   ],
   "source": [
    "e"
   ]
  },
  {
   "cell_type": "code",
   "execution_count": null,
   "metadata": {
    "collapsed": true
   },
   "outputs": [],
   "source": []
  }
 ],
 "metadata": {
  "kernelspec": {
   "display_name": "Python 3",
   "language": "python",
   "name": "python3"
  },
  "language_info": {
   "codemirror_mode": {
    "name": "ipython",
    "version": 3
   },
   "file_extension": ".py",
   "mimetype": "text/x-python",
   "name": "python",
   "nbconvert_exporter": "python",
   "pygments_lexer": "ipython3",
   "version": "3.4.3"
  }
 },
 "nbformat": 4,
 "nbformat_minor": 2
}
